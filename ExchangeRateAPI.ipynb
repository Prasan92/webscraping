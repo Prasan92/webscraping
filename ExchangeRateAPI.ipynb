{
 "cells": [
  {
   "cell_type": "code",
   "execution_count": 1,
   "metadata": {},
   "outputs": [],
   "source": [
    "import requests\n"
   ]
  },
  {
   "cell_type": "code",
   "execution_count": 2,
   "metadata": {},
   "outputs": [],
   "source": [
    "base_url = \"https://api.ratesapi.io/api/latest\""
   ]
  },
  {
   "cell_type": "code",
   "execution_count": 3,
   "metadata": {},
   "outputs": [],
   "source": [
    "response = requests.get(base_url)"
   ]
  },
  {
   "cell_type": "code",
   "execution_count": 4,
   "metadata": {},
   "outputs": [
    {
     "name": "stdout",
     "output_type": "stream",
     "text": [
      "<Response [200]>\n"
     ]
    }
   ],
   "source": [
    "print(response)"
   ]
  },
  {
   "cell_type": "code",
   "execution_count": 6,
   "metadata": {},
   "outputs": [
    {
     "name": "stdout",
     "output_type": "stream",
     "text": [
      "{\"base\":\"EUR\",\"rates\":{\"GBP\":0.86658,\"HKD\":9.247,\"IDR\":17354.52,\"ILS\":3.9093,\"DKK\":7.4372,\"INR\":88.8145,\"CHF\":1.101,\"MXN\":23.9374,\"CZK\":25.945,\"SGD\":1.5941,\"THB\":37.388,\"HRK\":7.5755,\"MYR\":4.9157,\"NOK\":10.113,\"CNY\":7.7934,\"BGN\":1.9558,\"PHP\":57.764,\"SEK\":10.1725,\"PLN\":4.5392,\"ZAR\":17.31,\"CAD\":1.495,\"ISK\":151.9,\"BRL\":6.6641,\"RON\":4.9198,\"NZD\":1.686,\"TRY\":9.6903,\"JPY\":130.42,\"RUB\":91.8152,\"KRW\":1331.28,\"USD\":1.1888,\"HUF\":357.97,\"AUD\":1.5579},\"date\":\"2021-04-09\"}\n"
     ]
    }
   ],
   "source": [
    "print(response.text)"
   ]
  },
  {
   "cell_type": "code",
   "execution_count": 8,
   "metadata": {},
   "outputs": [
    {
     "name": "stdout",
     "output_type": "stream",
     "text": [
      "{'base': 'EUR', 'rates': {'GBP': 0.86658, 'HKD': 9.247, 'IDR': 17354.52, 'ILS': 3.9093, 'DKK': 7.4372, 'INR': 88.8145, 'CHF': 1.101, 'MXN': 23.9374, 'CZK': 25.945, 'SGD': 1.5941, 'THB': 37.388, 'HRK': 7.5755, 'MYR': 4.9157, 'NOK': 10.113, 'CNY': 7.7934, 'BGN': 1.9558, 'PHP': 57.764, 'SEK': 10.1725, 'PLN': 4.5392, 'ZAR': 17.31, 'CAD': 1.495, 'ISK': 151.9, 'BRL': 6.6641, 'RON': 4.9198, 'NZD': 1.686, 'TRY': 9.6903, 'JPY': 130.42, 'RUB': 91.8152, 'KRW': 1331.28, 'USD': 1.1888, 'HUF': 357.97, 'AUD': 1.5579}, 'date': '2021-04-09'}\n"
     ]
    }
   ],
   "source": [
    "print(response.json())"
   ]
  },
  {
   "cell_type": "code",
   "execution_count": 9,
   "metadata": {},
   "outputs": [
    {
     "data": {
      "text/plain": [
       "{'base': 'EUR',\n",
       " 'rates': {'GBP': 0.86658,\n",
       "  'HKD': 9.247,\n",
       "  'IDR': 17354.52,\n",
       "  'ILS': 3.9093,\n",
       "  'DKK': 7.4372,\n",
       "  'INR': 88.8145,\n",
       "  'CHF': 1.101,\n",
       "  'MXN': 23.9374,\n",
       "  'CZK': 25.945,\n",
       "  'SGD': 1.5941,\n",
       "  'THB': 37.388,\n",
       "  'HRK': 7.5755,\n",
       "  'MYR': 4.9157,\n",
       "  'NOK': 10.113,\n",
       "  'CNY': 7.7934,\n",
       "  'BGN': 1.9558,\n",
       "  'PHP': 57.764,\n",
       "  'SEK': 10.1725,\n",
       "  'PLN': 4.5392,\n",
       "  'ZAR': 17.31,\n",
       "  'CAD': 1.495,\n",
       "  'ISK': 151.9,\n",
       "  'BRL': 6.6641,\n",
       "  'RON': 4.9198,\n",
       "  'NZD': 1.686,\n",
       "  'TRY': 9.6903,\n",
       "  'JPY': 130.42,\n",
       "  'RUB': 91.8152,\n",
       "  'KRW': 1331.28,\n",
       "  'USD': 1.1888,\n",
       "  'HUF': 357.97,\n",
       "  'AUD': 1.5579},\n",
       " 'date': '2021-04-09'}"
      ]
     },
     "execution_count": 9,
     "metadata": {},
     "output_type": "execute_result"
    }
   ],
   "source": [
    "response.json()"
   ]
  },
  {
   "cell_type": "code",
   "execution_count": 10,
   "metadata": {},
   "outputs": [],
   "source": [
    "import json\n"
   ]
  },
  {
   "cell_type": "code",
   "execution_count": 13,
   "metadata": {},
   "outputs": [
    {
     "name": "stdout",
     "output_type": "stream",
     "text": [
      "{\n",
      "    \"base\": \"EUR\",\n",
      "    \"rates\": {\n",
      "        \"GBP\": 0.86658,\n",
      "        \"HKD\": 9.247,\n",
      "        \"IDR\": 17354.52,\n",
      "        \"ILS\": 3.9093,\n",
      "        \"DKK\": 7.4372,\n",
      "        \"INR\": 88.8145,\n",
      "        \"CHF\": 1.101,\n",
      "        \"MXN\": 23.9374,\n",
      "        \"CZK\": 25.945,\n",
      "        \"SGD\": 1.5941,\n",
      "        \"THB\": 37.388,\n",
      "        \"HRK\": 7.5755,\n",
      "        \"MYR\": 4.9157,\n",
      "        \"NOK\": 10.113,\n",
      "        \"CNY\": 7.7934,\n",
      "        \"BGN\": 1.9558,\n",
      "        \"PHP\": 57.764,\n",
      "        \"SEK\": 10.1725,\n",
      "        \"PLN\": 4.5392,\n",
      "        \"ZAR\": 17.31,\n",
      "        \"CAD\": 1.495,\n",
      "        \"ISK\": 151.9,\n",
      "        \"BRL\": 6.6641,\n",
      "        \"RON\": 4.9198,\n",
      "        \"NZD\": 1.686,\n",
      "        \"TRY\": 9.6903,\n",
      "        \"JPY\": 130.42,\n",
      "        \"RUB\": 91.8152,\n",
      "        \"KRW\": 1331.28,\n",
      "        \"USD\": 1.1888,\n",
      "        \"HUF\": 357.97,\n",
      "        \"AUD\": 1.5579\n",
      "    },\n",
      "    \"date\": \"2021-04-09\"\n",
      "}\n"
     ]
    }
   ],
   "source": [
    "print(json.dumps(response.json(), indent = 4))"
   ]
  },
  {
   "cell_type": "code",
   "execution_count": 14,
   "metadata": {},
   "outputs": [
    {
     "ename": "AttributeError",
     "evalue": "'Response' object has no attribute 'keys'",
     "output_type": "error",
     "traceback": [
      "\u001b[1;31m---------------------------------------------------------------------------\u001b[0m",
      "\u001b[1;31mAttributeError\u001b[0m                            Traceback (most recent call last)",
      "\u001b[1;32m<ipython-input-14-188cbbee4291>\u001b[0m in \u001b[0;36m<module>\u001b[1;34m\u001b[0m\n\u001b[1;32m----> 1\u001b[1;33m \u001b[0mresponse\u001b[0m\u001b[1;33m.\u001b[0m\u001b[0mkeys\u001b[0m\u001b[1;33m(\u001b[0m\u001b[1;33m)\u001b[0m\u001b[1;33m\u001b[0m\u001b[1;33m\u001b[0m\u001b[0m\n\u001b[0m",
      "\u001b[1;31mAttributeError\u001b[0m: 'Response' object has no attribute 'keys'"
     ]
    }
   ],
   "source": [
    "response.keys()"
   ]
  },
  {
   "cell_type": "code",
   "execution_count": 15,
   "metadata": {},
   "outputs": [
    {
     "data": {
      "text/plain": [
       "dict_keys(['base', 'rates', 'date'])"
      ]
     },
     "execution_count": 15,
     "metadata": {},
     "output_type": "execute_result"
    }
   ],
   "source": [
    "response.json().keys()"
   ]
  },
  {
   "cell_type": "markdown",
   "metadata": {},
   "source": [
    "Parameter in GET request\n"
   ]
  },
  {
   "cell_type": "code",
   "execution_count": 19,
   "metadata": {},
   "outputs": [],
   "source": [
    "param_url = base_url + \"?symbols=USD,HUF\""
   ]
  },
  {
   "cell_type": "code",
   "execution_count": 20,
   "metadata": {},
   "outputs": [
    {
     "data": {
      "text/plain": [
       "{'base': 'EUR',\n",
       " 'rates': {'GBP': 0.86658,\n",
       "  'HKD': 9.247,\n",
       "  'IDR': 17354.52,\n",
       "  'ILS': 3.9093,\n",
       "  'DKK': 7.4372,\n",
       "  'INR': 88.8145,\n",
       "  'CHF': 1.101,\n",
       "  'MXN': 23.9374,\n",
       "  'CZK': 25.945,\n",
       "  'SGD': 1.5941,\n",
       "  'THB': 37.388,\n",
       "  'HRK': 7.5755,\n",
       "  'MYR': 4.9157,\n",
       "  'NOK': 10.113,\n",
       "  'CNY': 7.7934,\n",
       "  'BGN': 1.9558,\n",
       "  'PHP': 57.764,\n",
       "  'SEK': 10.1725,\n",
       "  'PLN': 4.5392,\n",
       "  'ZAR': 17.31,\n",
       "  'CAD': 1.495,\n",
       "  'ISK': 151.9,\n",
       "  'BRL': 6.6641,\n",
       "  'RON': 4.9198,\n",
       "  'NZD': 1.686,\n",
       "  'TRY': 9.6903,\n",
       "  'JPY': 130.42,\n",
       "  'RUB': 91.8152,\n",
       "  'KRW': 1331.28,\n",
       "  'USD': 1.1888,\n",
       "  'HUF': 357.97,\n",
       "  'AUD': 1.5579},\n",
       " 'date': '2021-04-09'}"
      ]
     },
     "execution_count": 20,
     "metadata": {},
     "output_type": "execute_result"
    }
   ],
   "source": [
    "data = response.json()\n",
    "data"
   ]
  },
  {
   "cell_type": "code",
   "execution_count": 21,
   "metadata": {},
   "outputs": [],
   "source": [
    "param_url = base_url + \"?symbols=USD,HUF\"\n"
   ]
  },
  {
   "cell_type": "code",
   "execution_count": 23,
   "metadata": {},
   "outputs": [],
   "source": [
    "response = requests.get(param_url)"
   ]
  },
  {
   "cell_type": "code",
   "execution_count": 24,
   "metadata": {},
   "outputs": [
    {
     "data": {
      "text/plain": [
       "200"
      ]
     },
     "execution_count": 24,
     "metadata": {},
     "output_type": "execute_result"
    }
   ],
   "source": [
    "response.status_code"
   ]
  },
  {
   "cell_type": "code",
   "execution_count": 25,
   "metadata": {},
   "outputs": [
    {
     "data": {
      "text/plain": [
       "True"
      ]
     },
     "execution_count": 25,
     "metadata": {},
     "output_type": "execute_result"
    }
   ],
   "source": [
    "response.ok"
   ]
  },
  {
   "cell_type": "code",
   "execution_count": 26,
   "metadata": {},
   "outputs": [
    {
     "name": "stdout",
     "output_type": "stream",
     "text": [
      "{'base': 'EUR', 'rates': {'USD': 1.1888, 'HUF': 357.97}, 'date': '2021-04-09'}\n"
     ]
    }
   ],
   "source": [
    "print(response.json())"
   ]
  },
  {
   "cell_type": "code",
   "execution_count": 27,
   "metadata": {},
   "outputs": [
    {
     "data": {
      "text/plain": [
       "{'base': 'EUR', 'rates': {'USD': 1.1888, 'HUF': 357.97}, 'date': '2021-04-09'}"
      ]
     },
     "execution_count": 27,
     "metadata": {},
     "output_type": "execute_result"
    }
   ],
   "source": [
    "data = response.json()\n",
    "data"
   ]
  },
  {
   "cell_type": "code",
   "execution_count": 28,
   "metadata": {},
   "outputs": [
    {
     "data": {
      "text/plain": [
       "dict_keys(['base', 'rates', 'date'])"
      ]
     },
     "execution_count": 28,
     "metadata": {},
     "output_type": "execute_result"
    }
   ],
   "source": [
    "data.keys()"
   ]
  },
  {
   "cell_type": "code",
   "execution_count": 29,
   "metadata": {},
   "outputs": [
    {
     "ename": "NameError",
     "evalue": "name 'base' is not defined",
     "output_type": "error",
     "traceback": [
      "\u001b[1;31m---------------------------------------------------------------------------\u001b[0m",
      "\u001b[1;31mNameError\u001b[0m                                 Traceback (most recent call last)",
      "\u001b[1;32m<ipython-input-29-cdf866087af7>\u001b[0m in \u001b[0;36m<module>\u001b[1;34m\u001b[0m\n\u001b[1;32m----> 1\u001b[1;33m \u001b[0mdata\u001b[0m\u001b[1;33m[\u001b[0m\u001b[0mbase\u001b[0m\u001b[1;33m]\u001b[0m\u001b[1;33m\u001b[0m\u001b[1;33m\u001b[0m\u001b[0m\n\u001b[0m",
      "\u001b[1;31mNameError\u001b[0m: name 'base' is not defined"
     ]
    }
   ],
   "source": [
    "data[base]"
   ]
  },
  {
   "cell_type": "code",
   "execution_count": 30,
   "metadata": {},
   "outputs": [
    {
     "data": {
      "text/plain": [
       "'EUR'"
      ]
     },
     "execution_count": 30,
     "metadata": {},
     "output_type": "execute_result"
    }
   ],
   "source": [
    "data[\"base\"]"
   ]
  },
  {
   "cell_type": "code",
   "execution_count": 31,
   "metadata": {},
   "outputs": [
    {
     "data": {
      "text/plain": [
       "'2021-04-09'"
      ]
     },
     "execution_count": 31,
     "metadata": {},
     "output_type": "execute_result"
    }
   ],
   "source": [
    "data['date']"
   ]
  },
  {
   "cell_type": "code",
   "execution_count": 32,
   "metadata": {},
   "outputs": [
    {
     "data": {
      "text/plain": [
       "{'base': 'EUR', 'rates': {'USD': 1.1888, 'HUF': 357.97}, 'date': '2021-04-09'}"
      ]
     },
     "execution_count": 32,
     "metadata": {},
     "output_type": "execute_result"
    }
   ],
   "source": [
    "data"
   ]
  },
  {
   "cell_type": "code",
   "execution_count": 35,
   "metadata": {},
   "outputs": [
    {
     "data": {
      "text/plain": [
       "'https://api.ratesapi.io/api/latest?base=USD&symbol=HUF'"
      ]
     },
     "execution_count": 35,
     "metadata": {},
     "output_type": "execute_result"
    }
   ],
   "source": [
    "param_url = base_url + \"?base=USD\" + \"&\" + \"symbol=HUF\"\n",
    "param_url"
   ]
  },
  {
   "cell_type": "code",
   "execution_count": 36,
   "metadata": {},
   "outputs": [
    {
     "data": {
      "text/plain": [
       "{'base': 'USD',\n",
       " 'rates': {'GBP': 0.7289535666,\n",
       "  'HKD': 7.7784320323,\n",
       "  'IDR': 14598.3512786003,\n",
       "  'ILS': 3.2884421265,\n",
       "  'DKK': 6.2560565276,\n",
       "  'INR': 74.7093707941,\n",
       "  'CHF': 0.9261440108,\n",
       "  'MXN': 20.1357671602,\n",
       "  'CZK': 21.8245289367,\n",
       "  'SGD': 1.3409320323,\n",
       "  'THB': 31.4502018843,\n",
       "  'HRK': 6.3723923284,\n",
       "  'EUR': 0.8411843876,\n",
       "  'MYR': 4.1350100942,\n",
       "  'NOK': 8.506897712,\n",
       "  'CNY': 6.5556864065,\n",
       "  'BGN': 1.6451884253,\n",
       "  'PHP': 48.5901749664,\n",
       "  'PLN': 3.8183041723,\n",
       "  'ZAR': 14.5609017497,\n",
       "  'CAD': 1.2575706595,\n",
       "  'ISK': 127.7759084791,\n",
       "  'BRL': 5.6057368775,\n",
       "  'RON': 4.1384589502,\n",
       "  'NZD': 1.4182368775,\n",
       "  'TRY': 8.1513290713,\n",
       "  'JPY': 109.7072678331,\n",
       "  'RUB': 77.233512786,\n",
       "  'KRW': 1119.8519515478,\n",
       "  'USD': 1.0,\n",
       "  'AUD': 1.3104811575,\n",
       "  'HUF': 301.1187752355,\n",
       "  'SEK': 8.556948183},\n",
       " 'date': '2021-04-09'}"
      ]
     },
     "execution_count": 36,
     "metadata": {},
     "output_type": "execute_result"
    }
   ],
   "source": [
    "data = requests.get(param_url).json()\n",
    "data"
   ]
  },
  {
   "cell_type": "code",
   "execution_count": 37,
   "metadata": {},
   "outputs": [
    {
     "data": {
      "text/plain": [
       "'https://api.ratesapi.io/api/latest?base=USD&symbol=HUF'"
      ]
     },
     "execution_count": 37,
     "metadata": {},
     "output_type": "execute_result"
    }
   ],
   "source": [
    "param_url"
   ]
  },
  {
   "cell_type": "code",
   "execution_count": 38,
   "metadata": {},
   "outputs": [],
   "source": [
    "data = requests.get(param_url).json()"
   ]
  },
  {
   "cell_type": "code",
   "execution_count": 39,
   "metadata": {},
   "outputs": [
    {
     "data": {
      "text/plain": [
       "dict_keys(['base', 'rates', 'date'])"
      ]
     },
     "execution_count": 39,
     "metadata": {},
     "output_type": "execute_result"
    }
   ],
   "source": [
    "data.keys()"
   ]
  },
  {
   "cell_type": "code",
   "execution_count": 40,
   "metadata": {},
   "outputs": [
    {
     "data": {
      "text/plain": [
       "{'base': 'USD',\n",
       " 'rates': {'GBP': 0.7289535666,\n",
       "  'HKD': 7.7784320323,\n",
       "  'IDR': 14598.3512786003,\n",
       "  'ILS': 3.2884421265,\n",
       "  'DKK': 6.2560565276,\n",
       "  'INR': 74.7093707941,\n",
       "  'CHF': 0.9261440108,\n",
       "  'MXN': 20.1357671602,\n",
       "  'CZK': 21.8245289367,\n",
       "  'SGD': 1.3409320323,\n",
       "  'THB': 31.4502018843,\n",
       "  'HRK': 6.3723923284,\n",
       "  'EUR': 0.8411843876,\n",
       "  'MYR': 4.1350100942,\n",
       "  'NOK': 8.506897712,\n",
       "  'CNY': 6.5556864065,\n",
       "  'BGN': 1.6451884253,\n",
       "  'PHP': 48.5901749664,\n",
       "  'PLN': 3.8183041723,\n",
       "  'ZAR': 14.5609017497,\n",
       "  'CAD': 1.2575706595,\n",
       "  'ISK': 127.7759084791,\n",
       "  'BRL': 5.6057368775,\n",
       "  'RON': 4.1384589502,\n",
       "  'NZD': 1.4182368775,\n",
       "  'TRY': 8.1513290713,\n",
       "  'JPY': 109.7072678331,\n",
       "  'RUB': 77.233512786,\n",
       "  'KRW': 1119.8519515478,\n",
       "  'USD': 1.0,\n",
       "  'AUD': 1.3104811575,\n",
       "  'HUF': 301.1187752355,\n",
       "  'SEK': 8.556948183},\n",
       " 'date': '2021-04-09'}"
      ]
     },
     "execution_count": 40,
     "metadata": {},
     "output_type": "execute_result"
    }
   ],
   "source": [
    "data"
   ]
  },
  {
   "cell_type": "code",
   "execution_count": 51,
   "metadata": {},
   "outputs": [],
   "source": [
    "param_url = base_url + \"?base=USD\"+\"&\"+\"symbols=HUF\""
   ]
  },
  {
   "cell_type": "code",
   "execution_count": 52,
   "metadata": {},
   "outputs": [
    {
     "data": {
      "text/plain": [
       "'https://api.ratesapi.io/api/latest?base=USD&symbols=HUF'"
      ]
     },
     "execution_count": 52,
     "metadata": {},
     "output_type": "execute_result"
    }
   ],
   "source": [
    "param_url"
   ]
  },
  {
   "cell_type": "code",
   "execution_count": 45,
   "metadata": {},
   "outputs": [
    {
     "ename": "AttributeError",
     "evalue": "'str' object has no attribute 'json'",
     "output_type": "error",
     "traceback": [
      "\u001b[1;31m---------------------------------------------------------------------------\u001b[0m",
      "\u001b[1;31mAttributeError\u001b[0m                            Traceback (most recent call last)",
      "\u001b[1;32m<ipython-input-45-c40e5ec02985>\u001b[0m in \u001b[0;36m<module>\u001b[1;34m\u001b[0m\n\u001b[1;32m----> 1\u001b[1;33m \u001b[0mparam_url\u001b[0m\u001b[1;33m.\u001b[0m\u001b[0mjson\u001b[0m\u001b[1;33m(\u001b[0m\u001b[1;33m)\u001b[0m\u001b[1;33m\u001b[0m\u001b[1;33m\u001b[0m\u001b[0m\n\u001b[0m",
      "\u001b[1;31mAttributeError\u001b[0m: 'str' object has no attribute 'json'"
     ]
    }
   ],
   "source": [
    "param_url.json()"
   ]
  },
  {
   "cell_type": "code",
   "execution_count": 53,
   "metadata": {},
   "outputs": [
    {
     "data": {
      "text/plain": [
       "{'base': 'USD', 'rates': {'HUF': 301.1187752355}, 'date': '2021-04-09'}"
      ]
     },
     "execution_count": 53,
     "metadata": {},
     "output_type": "execute_result"
    }
   ],
   "source": [
    "data = requests.get(param_url).json()\n",
    "data"
   ]
  },
  {
   "cell_type": "code",
   "execution_count": 54,
   "metadata": {},
   "outputs": [
    {
     "data": {
      "text/plain": [
       "'https://api.ratesapi.io/api/latest'"
      ]
     },
     "execution_count": 54,
     "metadata": {},
     "output_type": "execute_result"
    }
   ],
   "source": [
    "base_url"
   ]
  },
  {
   "cell_type": "code",
   "execution_count": 70,
   "metadata": {},
   "outputs": [],
   "source": [
    "base_url = \"https://api.ratesapi.io/api\""
   ]
  },
  {
   "cell_type": "code",
   "execution_count": 71,
   "metadata": {},
   "outputs": [],
   "source": [
    "historical_url = base_url + \"/2010-01-12\""
   ]
  },
  {
   "cell_type": "code",
   "execution_count": 72,
   "metadata": {},
   "outputs": [
    {
     "data": {
      "text/plain": [
       "True"
      ]
     },
     "execution_count": 72,
     "metadata": {},
     "output_type": "execute_result"
    }
   ],
   "source": [
    "response = requests.get(historical_url)"
   ]
  },
  {
   "cell_type": "code",
   "execution_count": 73,
   "metadata": {},
   "outputs": [],
   "source": [
    "data = response.json()"
   ]
  },
  {
   "cell_type": "code",
   "execution_count": 75,
   "metadata": {},
   "outputs": [
    {
     "name": "stdout",
     "output_type": "stream",
     "text": [
      "{\n",
      "    \"base\": \"EUR\",\n",
      "    \"rates\": {\n",
      "        \"GBP\": 0.8972,\n",
      "        \"HKD\": 11.2301,\n",
      "        \"IDR\": 13281.14,\n",
      "        \"PLN\": 4.0838,\n",
      "        \"DKK\": 7.4405,\n",
      "        \"LVL\": 0.7093,\n",
      "        \"INR\": 66.21,\n",
      "        \"CHF\": 1.4743,\n",
      "        \"MXN\": 18.4995,\n",
      "        \"CZK\": 26.258,\n",
      "        \"SGD\": 2.0133,\n",
      "        \"THB\": 47.839,\n",
      "        \"BGN\": 1.9558,\n",
      "        \"MYR\": 4.8424,\n",
      "        \"NOK\": 8.1825,\n",
      "        \"CNY\": 9.8863,\n",
      "        \"HRK\": 7.2753,\n",
      "        \"PHP\": 66.106,\n",
      "        \"SEK\": 10.2215,\n",
      "        \"LTL\": 3.4528,\n",
      "        \"ZAR\": 10.8264,\n",
      "        \"CAD\": 1.4959,\n",
      "        \"BRL\": 2.5309,\n",
      "        \"RON\": 4.1405,\n",
      "        \"EEK\": 15.6466,\n",
      "        \"NZD\": 1.9573,\n",
      "        \"TRY\": 2.1084,\n",
      "        \"JPY\": 132.41,\n",
      "        \"RUB\": 42.6974,\n",
      "        \"KRW\": 1627.4,\n",
      "        \"USD\": 1.4481,\n",
      "        \"HUF\": 268.18,\n",
      "        \"AUD\": 1.5668\n",
      "    },\n",
      "    \"date\": \"2010-01-12\"\n",
      "}\n"
     ]
    }
   ],
   "source": [
    "print(json.dumps(data, indent= 4))"
   ]
  },
  {
   "cell_type": "markdown",
   "metadata": {},
   "source": [
    "Extracting data for a time period"
   ]
  },
  {
   "cell_type": "code",
   "execution_count": 94,
   "metadata": {},
   "outputs": [],
   "source": [
    "timeperiod = base_url + \"/history\"+\"?start_at=2010-01-01&end_at=2011-01-01\"+\"&symbols=USD\""
   ]
  },
  {
   "cell_type": "code",
   "execution_count": 95,
   "metadata": {},
   "outputs": [
    {
     "data": {
      "text/plain": [
       "'https://api.ratesapi.io/api/history?start_at=2010-01-01&end_at=2011-01-01&symbols=USD'"
      ]
     },
     "execution_count": 95,
     "metadata": {},
     "output_type": "execute_result"
    }
   ],
   "source": [
    "timeperiod"
   ]
  },
  {
   "cell_type": "code",
   "execution_count": 96,
   "metadata": {},
   "outputs": [],
   "source": [
    "data = requests.get(timeperiod).json()"
   ]
  },
  {
   "cell_type": "code",
   "execution_count": 100,
   "metadata": {},
   "outputs": [
    {
     "name": "stdout",
     "output_type": "stream",
     "text": [
      "{\n",
      "    \"base\": \"EUR\",\n",
      "    \"end_at\": \"2011-01-01\",\n",
      "    \"rates\": {\n",
      "        \"2010-01-04\": {\n",
      "            \"USD\": 1.4389\n",
      "        },\n",
      "        \"2010-01-05\": {\n",
      "            \"USD\": 1.4442\n",
      "        },\n",
      "        \"2010-01-06\": {\n",
      "            \"USD\": 1.435\n",
      "        },\n",
      "        \"2010-01-07\": {\n",
      "            \"USD\": 1.4304\n",
      "        },\n",
      "        \"2010-01-08\": {\n",
      "            \"USD\": 1.4273\n",
      "        },\n",
      "        \"2010-01-11\": {\n",
      "            \"USD\": 1.4528\n",
      "        },\n",
      "        \"2010-01-12\": {\n",
      "            \"USD\": 1.4481\n",
      "        },\n",
      "        \"2010-01-13\": {\n",
      "            \"USD\": 1.4563\n",
      "        },\n",
      "        \"2010-01-14\": {\n",
      "            \"USD\": 1.4486\n",
      "        },\n",
      "        \"2010-01-15\": {\n",
      "            \"USD\": 1.4374\n",
      "        },\n",
      "        \"2010-01-18\": {\n",
      "            \"USD\": 1.4369\n",
      "        },\n",
      "        \"2010-01-19\": {\n",
      "            \"USD\": 1.4279\n",
      "        },\n",
      "        \"2010-01-20\": {\n",
      "            \"USD\": 1.4132\n",
      "        },\n",
      "        \"2010-01-21\": {\n",
      "            \"USD\": 1.4064\n",
      "        },\n",
      "        \"2010-01-22\": {\n",
      "            \"USD\": 1.4135\n",
      "        },\n",
      "        \"2010-01-25\": {\n",
      "            \"USD\": 1.4151\n",
      "        },\n",
      "        \"2010-01-26\": {\n",
      "            \"USD\": 1.4085\n",
      "        },\n",
      "        \"2010-01-27\": {\n",
      "            \"USD\": 1.4072\n",
      "        },\n",
      "        \"2010-01-28\": {\n",
      "            \"USD\": 1.3999\n",
      "        },\n",
      "        \"2010-01-29\": {\n",
      "            \"USD\": 1.3966\n",
      "        },\n",
      "        \"2010-02-01\": {\n",
      "            \"USD\": 1.3913\n",
      "        },\n",
      "        \"2010-02-02\": {\n",
      "            \"USD\": 1.3937\n",
      "        },\n",
      "        \"2010-02-03\": {\n",
      "            \"USD\": 1.3984\n",
      "        },\n",
      "        \"2010-02-04\": {\n",
      "            \"USD\": 1.3847\n",
      "        },\n",
      "        \"2010-02-05\": {\n",
      "            \"USD\": 1.3691\n",
      "        },\n",
      "        \"2010-02-08\": {\n",
      "            \"USD\": 1.3675\n",
      "        },\n",
      "        \"2010-02-09\": {\n",
      "            \"USD\": 1.376\n",
      "        },\n",
      "        \"2010-02-10\": {\n",
      "            \"USD\": 1.374\n",
      "        },\n",
      "        \"2010-02-11\": {\n",
      "            \"USD\": 1.3718\n",
      "        },\n",
      "        \"2010-02-12\": {\n",
      "            \"USD\": 1.3572\n",
      "        },\n",
      "        \"2010-02-15\": {\n",
      "            \"USD\": 1.3607\n",
      "        },\n",
      "        \"2010-02-16\": {\n",
      "            \"USD\": 1.3649\n",
      "        },\n",
      "        \"2010-02-17\": {\n",
      "            \"USD\": 1.3726\n",
      "        },\n",
      "        \"2010-02-18\": {\n",
      "            \"USD\": 1.3567\n",
      "        },\n",
      "        \"2010-02-19\": {\n",
      "            \"USD\": 1.3519\n",
      "        },\n",
      "        \"2010-02-22\": {\n",
      "            \"USD\": 1.3626\n",
      "        },\n",
      "        \"2010-02-23\": {\n",
      "            \"USD\": 1.3577\n",
      "        },\n",
      "        \"2010-02-24\": {\n",
      "            \"USD\": 1.3547\n",
      "        },\n",
      "        \"2010-02-25\": {\n",
      "            \"USD\": 1.3489\n",
      "        },\n",
      "        \"2010-02-26\": {\n",
      "            \"USD\": 1.357\n",
      "        },\n",
      "        \"2010-03-01\": {\n",
      "            \"USD\": 1.3525\n",
      "        },\n",
      "        \"2010-03-02\": {\n",
      "            \"USD\": 1.3548\n",
      "        },\n",
      "        \"2010-03-03\": {\n",
      "            \"USD\": 1.3641\n",
      "        },\n",
      "        \"2010-03-04\": {\n",
      "            \"USD\": 1.3668\n",
      "        },\n",
      "        \"2010-03-05\": {\n",
      "            \"USD\": 1.3582\n",
      "        },\n",
      "        \"2010-03-08\": {\n",
      "            \"USD\": 1.3662\n",
      "        },\n",
      "        \"2010-03-09\": {\n",
      "            \"USD\": 1.3557\n",
      "        },\n",
      "        \"2010-03-10\": {\n",
      "            \"USD\": 1.361\n",
      "        },\n",
      "        \"2010-03-11\": {\n",
      "            \"USD\": 1.3657\n",
      "        },\n",
      "        \"2010-03-12\": {\n",
      "            \"USD\": 1.3765\n",
      "        },\n",
      "        \"2010-03-15\": {\n",
      "            \"USD\": 1.3705\n",
      "        },\n",
      "        \"2010-03-16\": {\n",
      "            \"USD\": 1.3723\n",
      "        },\n",
      "        \"2010-03-17\": {\n",
      "            \"USD\": 1.3756\n",
      "        },\n",
      "        \"2010-03-18\": {\n",
      "            \"USD\": 1.366\n",
      "        },\n",
      "        \"2010-03-19\": {\n",
      "            \"USD\": 1.3548\n",
      "        },\n",
      "        \"2010-03-22\": {\n",
      "            \"USD\": 1.3471\n",
      "        },\n",
      "        \"2010-03-23\": {\n",
      "            \"USD\": 1.3519\n",
      "        },\n",
      "        \"2010-03-24\": {\n",
      "            \"USD\": 1.3338\n",
      "        },\n",
      "        \"2010-03-25\": {\n",
      "            \"USD\": 1.3356\n",
      "        },\n",
      "        \"2010-03-26\": {\n",
      "            \"USD\": 1.3353\n",
      "        },\n",
      "        \"2010-03-29\": {\n",
      "            \"USD\": 1.3471\n",
      "        },\n",
      "        \"2010-03-30\": {\n",
      "            \"USD\": 1.3482\n",
      "        },\n",
      "        \"2010-03-31\": {\n",
      "            \"USD\": 1.3479\n",
      "        },\n",
      "        \"2010-04-01\": {\n",
      "            \"USD\": 1.3468\n",
      "        },\n",
      "        \"2010-04-06\": {\n",
      "            \"USD\": 1.3396\n",
      "        },\n",
      "        \"2010-04-07\": {\n",
      "            \"USD\": 1.334\n",
      "        },\n",
      "        \"2010-04-08\": {\n",
      "            \"USD\": 1.3296\n",
      "        },\n",
      "        \"2010-04-09\": {\n",
      "            \"USD\": 1.3384\n",
      "        },\n",
      "        \"2010-04-12\": {\n",
      "            \"USD\": 1.3585\n",
      "        },\n",
      "        \"2010-04-13\": {\n",
      "            \"USD\": 1.3583\n",
      "        },\n",
      "        \"2010-04-14\": {\n",
      "            \"USD\": 1.3615\n",
      "        },\n",
      "        \"2010-04-15\": {\n",
      "            \"USD\": 1.3544\n",
      "        },\n",
      "        \"2010-04-16\": {\n",
      "            \"USD\": 1.3535\n",
      "        },\n",
      "        \"2010-04-19\": {\n",
      "            \"USD\": 1.3432\n",
      "        },\n",
      "        \"2010-04-20\": {\n",
      "            \"USD\": 1.3486\n",
      "        },\n",
      "        \"2010-04-21\": {\n",
      "            \"USD\": 1.3373\n",
      "        },\n",
      "        \"2010-04-22\": {\n",
      "            \"USD\": 1.3339\n",
      "        },\n",
      "        \"2010-04-23\": {\n",
      "            \"USD\": 1.3311\n",
      "        },\n",
      "        \"2010-04-26\": {\n",
      "            \"USD\": 1.3321\n",
      "        },\n",
      "        \"2010-04-27\": {\n",
      "            \"USD\": 1.329\n",
      "        },\n",
      "        \"2010-04-28\": {\n",
      "            \"USD\": 1.3245\n",
      "        },\n",
      "        \"2010-04-29\": {\n",
      "            \"USD\": 1.3256\n",
      "        },\n",
      "        \"2010-04-30\": {\n",
      "            \"USD\": 1.3315\n",
      "        },\n",
      "        \"2010-05-03\": {\n",
      "            \"USD\": 1.3238\n",
      "        },\n",
      "        \"2010-05-04\": {\n",
      "            \"USD\": 1.3089\n",
      "        },\n",
      "        \"2010-05-05\": {\n",
      "            \"USD\": 1.2924\n",
      "        },\n",
      "        \"2010-05-06\": {\n",
      "            \"USD\": 1.2727\n",
      "        },\n",
      "        \"2010-05-07\": {\n",
      "            \"USD\": 1.2746\n",
      "        },\n",
      "        \"2010-05-10\": {\n",
      "            \"USD\": 1.2969\n",
      "        },\n",
      "        \"2010-05-11\": {\n",
      "            \"USD\": 1.2698\n",
      "        },\n",
      "        \"2010-05-12\": {\n",
      "            \"USD\": 1.2686\n",
      "        },\n",
      "        \"2010-05-13\": {\n",
      "            \"USD\": 1.2587\n",
      "        },\n",
      "        \"2010-05-14\": {\n",
      "            \"USD\": 1.2492\n",
      "        },\n",
      "        \"2010-05-17\": {\n",
      "            \"USD\": 1.2349\n",
      "        },\n",
      "        \"2010-05-18\": {\n",
      "            \"USD\": 1.2428\n",
      "        },\n",
      "        \"2010-05-19\": {\n",
      "            \"USD\": 1.227\n",
      "        },\n",
      "        \"2010-05-20\": {\n",
      "            \"USD\": 1.2334\n",
      "        },\n",
      "        \"2010-05-21\": {\n",
      "            \"USD\": 1.2497\n",
      "        },\n",
      "        \"2010-05-24\": {\n",
      "            \"USD\": 1.236\n",
      "        },\n",
      "        \"2010-05-25\": {\n",
      "            \"USD\": 1.2223\n",
      "        },\n",
      "        \"2010-05-26\": {\n",
      "            \"USD\": 1.2309\n",
      "        },\n",
      "        \"2010-05-27\": {\n",
      "            \"USD\": 1.2255\n",
      "        },\n",
      "        \"2010-05-28\": {\n",
      "            \"USD\": 1.2384\n",
      "        },\n",
      "        \"2010-05-31\": {\n",
      "            \"USD\": 1.2307\n",
      "        },\n",
      "        \"2010-06-01\": {\n",
      "            \"USD\": 1.2155\n",
      "        },\n",
      "        \"2010-06-02\": {\n",
      "            \"USD\": 1.2218\n",
      "        },\n",
      "        \"2010-06-03\": {\n",
      "            \"USD\": 1.2268\n",
      "        },\n",
      "        \"2010-06-04\": {\n",
      "            \"USD\": 1.206\n",
      "        },\n",
      "        \"2010-06-07\": {\n",
      "            \"USD\": 1.1959\n",
      "        },\n",
      "        \"2010-06-08\": {\n",
      "            \"USD\": 1.1942\n",
      "        },\n",
      "        \"2010-06-09\": {\n",
      "            \"USD\": 1.201\n",
      "        },\n",
      "        \"2010-06-10\": {\n",
      "            \"USD\": 1.2045\n",
      "        },\n",
      "        \"2010-06-11\": {\n",
      "            \"USD\": 1.2127\n",
      "        },\n",
      "        \"2010-06-14\": {\n",
      "            \"USD\": 1.2249\n",
      "        },\n",
      "        \"2010-06-15\": {\n",
      "            \"USD\": 1.2258\n",
      "        },\n",
      "        \"2010-06-16\": {\n",
      "            \"USD\": 1.2277\n",
      "        },\n",
      "        \"2010-06-17\": {\n",
      "            \"USD\": 1.2363\n",
      "        },\n",
      "        \"2010-06-18\": {\n",
      "            \"USD\": 1.2372\n",
      "        },\n",
      "        \"2010-06-21\": {\n",
      "            \"USD\": 1.2391\n",
      "        },\n",
      "        \"2010-06-22\": {\n",
      "            \"USD\": 1.2258\n",
      "        },\n",
      "        \"2010-06-23\": {\n",
      "            \"USD\": 1.2271\n",
      "        },\n",
      "        \"2010-06-24\": {\n",
      "            \"USD\": 1.2262\n",
      "        },\n",
      "        \"2010-06-25\": {\n",
      "            \"USD\": 1.2294\n",
      "        },\n",
      "        \"2010-06-28\": {\n",
      "            \"USD\": 1.2339\n",
      "        },\n",
      "        \"2010-06-29\": {\n",
      "            \"USD\": 1.2198\n",
      "        },\n",
      "        \"2010-06-30\": {\n",
      "            \"USD\": 1.2271\n",
      "        },\n",
      "        \"2010-07-01\": {\n",
      "            \"USD\": 1.2328\n",
      "        },\n",
      "        \"2010-07-02\": {\n",
      "            \"USD\": 1.2548\n",
      "        },\n",
      "        \"2010-07-05\": {\n",
      "            \"USD\": 1.2531\n",
      "        },\n",
      "        \"2010-07-06\": {\n",
      "            \"USD\": 1.2579\n",
      "        },\n",
      "        \"2010-07-07\": {\n",
      "            \"USD\": 1.2567\n",
      "        },\n",
      "        \"2010-07-08\": {\n",
      "            \"USD\": 1.266\n",
      "        },\n",
      "        \"2010-07-09\": {\n",
      "            \"USD\": 1.2637\n",
      "        },\n",
      "        \"2010-07-12\": {\n",
      "            \"USD\": 1.2572\n",
      "        },\n",
      "        \"2010-07-13\": {\n",
      "            \"USD\": 1.2569\n",
      "        },\n",
      "        \"2010-07-14\": {\n",
      "            \"USD\": 1.2703\n",
      "        },\n",
      "        \"2010-07-15\": {\n",
      "            \"USD\": 1.2828\n",
      "        },\n",
      "        \"2010-07-16\": {\n",
      "            \"USD\": 1.3\n",
      "        },\n",
      "        \"2010-07-19\": {\n",
      "            \"USD\": 1.2957\n",
      "        },\n",
      "        \"2010-07-20\": {\n",
      "            \"USD\": 1.2844\n",
      "        },\n",
      "        \"2010-07-21\": {\n",
      "            \"USD\": 1.2817\n",
      "        },\n",
      "        \"2010-07-22\": {\n",
      "            \"USD\": 1.285\n",
      "        },\n",
      "        \"2010-07-23\": {\n",
      "            \"USD\": 1.2897\n",
      "        },\n",
      "        \"2010-07-26\": {\n",
      "            \"USD\": 1.2931\n",
      "        },\n",
      "        \"2010-07-27\": {\n",
      "            \"USD\": 1.3033\n",
      "        },\n",
      "        \"2010-07-28\": {\n",
      "            \"USD\": 1.2992\n",
      "        },\n",
      "        \"2010-07-29\": {\n",
      "            \"USD\": 1.3069\n",
      "        },\n",
      "        \"2010-07-30\": {\n",
      "            \"USD\": 1.3028\n",
      "        },\n",
      "        \"2010-08-02\": {\n",
      "            \"USD\": 1.3073\n",
      "        },\n",
      "        \"2010-08-03\": {\n",
      "            \"USD\": 1.3221\n",
      "        },\n",
      "        \"2010-08-04\": {\n",
      "            \"USD\": 1.3206\n",
      "        },\n",
      "        \"2010-08-05\": {\n",
      "            \"USD\": 1.3184\n",
      "        },\n",
      "        \"2010-08-06\": {\n",
      "            \"USD\": 1.3176\n",
      "        },\n",
      "        \"2010-08-09\": {\n",
      "            \"USD\": 1.3253\n",
      "        },\n",
      "        \"2010-08-10\": {\n",
      "            \"USD\": 1.3133\n",
      "        },\n",
      "        \"2010-08-11\": {\n",
      "            \"USD\": 1.3016\n",
      "        },\n",
      "        \"2010-08-12\": {\n",
      "            \"USD\": 1.279\n",
      "        },\n",
      "        \"2010-08-13\": {\n",
      "            \"USD\": 1.2799\n",
      "        },\n",
      "        \"2010-08-16\": {\n",
      "            \"USD\": 1.282\n",
      "        },\n",
      "        \"2010-08-17\": {\n",
      "            \"USD\": 1.286\n",
      "        },\n",
      "        \"2010-08-18\": {\n",
      "            \"USD\": 1.288\n",
      "        },\n",
      "        \"2010-08-19\": {\n",
      "            \"USD\": 1.2836\n",
      "        },\n",
      "        \"2010-08-20\": {\n",
      "            \"USD\": 1.2711\n",
      "        },\n",
      "        \"2010-08-23\": {\n",
      "            \"USD\": 1.2704\n",
      "        },\n",
      "        \"2010-08-24\": {\n",
      "            \"USD\": 1.2611\n",
      "        },\n",
      "        \"2010-08-25\": {\n",
      "            \"USD\": 1.2613\n",
      "        },\n",
      "        \"2010-08-26\": {\n",
      "            \"USD\": 1.2693\n",
      "        },\n",
      "        \"2010-08-27\": {\n",
      "            \"USD\": 1.2713\n",
      "        },\n",
      "        \"2010-08-30\": {\n",
      "            \"USD\": 1.27\n",
      "        },\n",
      "        \"2010-08-31\": {\n",
      "            \"USD\": 1.268\n",
      "        },\n",
      "        \"2010-09-01\": {\n",
      "            \"USD\": 1.28\n",
      "        },\n",
      "        \"2010-09-02\": {\n",
      "            \"USD\": 1.2818\n",
      "        },\n",
      "        \"2010-09-03\": {\n",
      "            \"USD\": 1.2834\n",
      "        },\n",
      "        \"2010-09-06\": {\n",
      "            \"USD\": 1.2874\n",
      "        },\n",
      "        \"2010-09-07\": {\n",
      "            \"USD\": 1.2744\n",
      "        },\n",
      "        \"2010-09-08\": {\n",
      "            \"USD\": 1.2697\n",
      "        },\n",
      "        \"2010-09-09\": {\n",
      "            \"USD\": 1.2715\n",
      "        },\n",
      "        \"2010-09-10\": {\n",
      "            \"USD\": 1.2725\n",
      "        },\n",
      "        \"2010-09-13\": {\n",
      "            \"USD\": 1.2801\n",
      "        },\n",
      "        \"2010-09-14\": {\n",
      "            \"USD\": 1.285\n",
      "        },\n",
      "        \"2010-09-15\": {\n",
      "            \"USD\": 1.2989\n",
      "        },\n",
      "        \"2010-09-16\": {\n",
      "            \"USD\": 1.3078\n",
      "        },\n",
      "        \"2010-09-17\": {\n",
      "            \"USD\": 1.306\n",
      "        },\n",
      "        \"2010-09-20\": {\n",
      "            \"USD\": 1.3074\n",
      "        },\n",
      "        \"2010-09-21\": {\n",
      "            \"USD\": 1.312\n",
      "        },\n",
      "        \"2010-09-22\": {\n",
      "            \"USD\": 1.3364\n",
      "        },\n",
      "        \"2010-09-23\": {\n",
      "            \"USD\": 1.3323\n",
      "        },\n",
      "        \"2010-09-24\": {\n",
      "            \"USD\": 1.3412\n",
      "        },\n",
      "        \"2010-09-27\": {\n",
      "            \"USD\": 1.3477\n",
      "        },\n",
      "        \"2010-09-28\": {\n",
      "            \"USD\": 1.346\n",
      "        },\n",
      "        \"2010-09-29\": {\n",
      "            \"USD\": 1.3611\n",
      "        },\n",
      "        \"2010-09-30\": {\n",
      "            \"USD\": 1.3648\n",
      "        },\n",
      "        \"2010-10-01\": {\n",
      "            \"USD\": 1.3726\n",
      "        },\n",
      "        \"2010-10-04\": {\n",
      "            \"USD\": 1.3705\n",
      "        },\n",
      "        \"2010-10-05\": {\n",
      "            \"USD\": 1.378\n",
      "        },\n",
      "        \"2010-10-06\": {\n",
      "            \"USD\": 1.3856\n",
      "        },\n",
      "        \"2010-10-07\": {\n",
      "            \"USD\": 1.397\n",
      "        },\n",
      "        \"2010-10-08\": {\n",
      "            \"USD\": 1.3874\n",
      "        },\n",
      "        \"2010-10-11\": {\n",
      "            \"USD\": 1.3936\n",
      "        },\n",
      "        \"2010-10-12\": {\n",
      "            \"USD\": 1.3833\n",
      "        },\n",
      "        \"2010-10-13\": {\n",
      "            \"USD\": 1.3958\n",
      "        },\n",
      "        \"2010-10-14\": {\n",
      "            \"USD\": 1.4101\n",
      "        },\n",
      "        \"2010-10-15\": {\n",
      "            \"USD\": 1.4089\n",
      "        },\n",
      "        \"2010-10-18\": {\n",
      "            \"USD\": 1.3896\n",
      "        },\n",
      "        \"2010-10-19\": {\n",
      "            \"USD\": 1.3859\n",
      "        },\n",
      "        \"2010-10-20\": {\n",
      "            \"USD\": 1.3861\n",
      "        },\n",
      "        \"2010-10-21\": {\n",
      "            \"USD\": 1.4016\n",
      "        },\n",
      "        \"2010-10-22\": {\n",
      "            \"USD\": 1.3934\n",
      "        },\n",
      "        \"2010-10-25\": {\n",
      "            \"USD\": 1.4031\n",
      "        },\n",
      "        \"2010-10-26\": {\n",
      "            \"USD\": 1.3912\n",
      "        },\n",
      "        \"2010-10-27\": {\n",
      "            \"USD\": 1.3803\n",
      "        },\n",
      "        \"2010-10-28\": {\n",
      "            \"USD\": 1.3857\n",
      "        },\n",
      "        \"2010-10-29\": {\n",
      "            \"USD\": 1.3857\n",
      "        },\n",
      "        \"2010-11-01\": {\n",
      "            \"USD\": 1.3926\n",
      "        },\n",
      "        \"2010-11-02\": {\n",
      "            \"USD\": 1.4018\n",
      "        },\n",
      "        \"2010-11-03\": {\n",
      "            \"USD\": 1.4014\n",
      "        },\n",
      "        \"2010-11-04\": {\n",
      "            \"USD\": 1.4244\n",
      "        },\n",
      "        \"2010-11-05\": {\n",
      "            \"USD\": 1.4084\n",
      "        },\n",
      "        \"2010-11-08\": {\n",
      "            \"USD\": 1.3917\n",
      "        },\n",
      "        \"2010-11-09\": {\n",
      "            \"USD\": 1.3945\n",
      "        },\n",
      "        \"2010-11-10\": {\n",
      "            \"USD\": 1.377\n",
      "        },\n",
      "        \"2010-11-11\": {\n",
      "            \"USD\": 1.37\n",
      "        },\n",
      "        \"2010-11-12\": {\n",
      "            \"USD\": 1.3711\n",
      "        },\n",
      "        \"2010-11-15\": {\n",
      "            \"USD\": 1.3626\n",
      "        },\n",
      "        \"2010-11-16\": {\n",
      "            \"USD\": 1.3612\n",
      "        },\n",
      "        \"2010-11-17\": {\n",
      "            \"USD\": 1.3481\n",
      "        },\n",
      "        \"2010-11-18\": {\n",
      "            \"USD\": 1.3647\n",
      "        },\n",
      "        \"2010-11-19\": {\n",
      "            \"USD\": 1.3674\n",
      "        },\n",
      "        \"2010-11-22\": {\n",
      "            \"USD\": 1.3647\n",
      "        },\n",
      "        \"2010-11-23\": {\n",
      "            \"USD\": 1.3496\n",
      "        },\n",
      "        \"2010-11-24\": {\n",
      "            \"USD\": 1.3339\n",
      "        },\n",
      "        \"2010-11-25\": {\n",
      "            \"USD\": 1.3321\n",
      "        },\n",
      "        \"2010-11-26\": {\n",
      "            \"USD\": 1.3225\n",
      "        },\n",
      "        \"2010-11-29\": {\n",
      "            \"USD\": 1.3146\n",
      "        },\n",
      "        \"2010-11-30\": {\n",
      "            \"USD\": 1.2998\n",
      "        },\n",
      "        \"2010-12-01\": {\n",
      "            \"USD\": 1.3115\n",
      "        },\n",
      "        \"2010-12-02\": {\n",
      "            \"USD\": 1.3155\n",
      "        },\n",
      "        \"2010-12-03\": {\n",
      "            \"USD\": 1.3246\n",
      "        },\n",
      "        \"2010-12-06\": {\n",
      "            \"USD\": 1.328\n",
      "        },\n",
      "        \"2010-12-07\": {\n",
      "            \"USD\": 1.3363\n",
      "        },\n",
      "        \"2010-12-08\": {\n",
      "            \"USD\": 1.32\n",
      "        },\n",
      "        \"2010-12-09\": {\n",
      "            \"USD\": 1.3214\n",
      "        },\n",
      "        \"2010-12-10\": {\n",
      "            \"USD\": 1.3244\n",
      "        },\n",
      "        \"2010-12-13\": {\n",
      "            \"USD\": 1.3267\n",
      "        },\n",
      "        \"2010-12-14\": {\n",
      "            \"USD\": 1.3435\n",
      "        },\n",
      "        \"2010-12-15\": {\n",
      "            \"USD\": 1.336\n",
      "        },\n",
      "        \"2010-12-16\": {\n",
      "            \"USD\": 1.3238\n",
      "        },\n",
      "        \"2010-12-17\": {\n",
      "            \"USD\": 1.326\n",
      "        },\n",
      "        \"2010-12-20\": {\n",
      "            \"USD\": 1.3147\n",
      "        },\n",
      "        \"2010-12-21\": {\n",
      "            \"USD\": 1.3155\n",
      "        },\n",
      "        \"2010-12-22\": {\n",
      "            \"USD\": 1.3112\n",
      "        },\n",
      "        \"2010-12-23\": {\n",
      "            \"USD\": 1.3064\n",
      "        },\n",
      "        \"2010-12-24\": {\n",
      "            \"USD\": 1.3099\n",
      "        },\n",
      "        \"2010-12-27\": {\n",
      "            \"USD\": 1.3136\n",
      "        },\n",
      "        \"2010-12-28\": {\n",
      "            \"USD\": 1.3195\n",
      "        },\n",
      "        \"2010-12-29\": {\n",
      "            \"USD\": 1.3136\n",
      "        },\n",
      "        \"2010-12-30\": {\n",
      "            \"USD\": 1.328\n",
      "        },\n",
      "        \"2010-12-31\": {\n",
      "            \"USD\": 1.3362\n",
      "        }\n",
      "    },\n",
      "    \"start_at\": \"2010-01-01\"\n",
      "}\n"
     ]
    }
   ],
   "source": [
    "print(json.dumps(data,indent = 4, sort_keys = True))"
   ]
  },
  {
   "cell_type": "markdown",
   "metadata": {},
   "source": [
    "# Testing API response to incorrect input"
   ]
  },
  {
   "cell_type": "code",
   "execution_count": 101,
   "metadata": {},
   "outputs": [],
   "source": [
    "\n",
    "invalid_url = base_url + \"/2010-13-01\""
   ]
  },
  {
   "cell_type": "code",
   "execution_count": 102,
   "metadata": {},
   "outputs": [],
   "source": [
    "response = requests.get(invalid_url)"
   ]
  },
  {
   "cell_type": "code",
   "execution_count": 103,
   "metadata": {},
   "outputs": [
    {
     "data": {
      "text/plain": [
       "False"
      ]
     },
     "execution_count": 103,
     "metadata": {},
     "output_type": "execute_result"
    }
   ],
   "source": [
    "response.ok"
   ]
  },
  {
   "cell_type": "code",
   "execution_count": 104,
   "metadata": {},
   "outputs": [
    {
     "data": {
      "text/plain": [
       "400"
      ]
     },
     "execution_count": 104,
     "metadata": {},
     "output_type": "execute_result"
    }
   ],
   "source": [
    "response.status_code"
   ]
  },
  {
   "cell_type": "code",
   "execution_count": 105,
   "metadata": {},
   "outputs": [
    {
     "data": {
      "text/plain": [
       "{'error': \"time data '2010-13-01' does not match format '%Y-%m-%d'\"}"
      ]
     },
     "execution_count": 105,
     "metadata": {},
     "output_type": "execute_result"
    }
   ],
   "source": [
    "response.json()"
   ]
  },
  {
   "cell_type": "code",
   "execution_count": 106,
   "metadata": {},
   "outputs": [],
   "source": [
    "invalid_url = base_url + \"/2010-12-01\"+\"?base=USB\""
   ]
  },
  {
   "cell_type": "code",
   "execution_count": 107,
   "metadata": {},
   "outputs": [],
   "source": [
    "response = requests.get(invalid_url)"
   ]
  },
  {
   "cell_type": "code",
   "execution_count": 109,
   "metadata": {},
   "outputs": [
    {
     "data": {
      "text/plain": [
       "{'error': \"Base 'USB' is not supported.\"}"
      ]
     },
     "execution_count": 109,
     "metadata": {},
     "output_type": "execute_result"
    }
   ],
   "source": [
    "response.json()"
   ]
  },
  {
   "cell_type": "code",
   "execution_count": 110,
   "metadata": {},
   "outputs": [
    {
     "data": {
      "text/plain": [
       "'https://api.ratesapi.io/api'"
      ]
     },
     "execution_count": 110,
     "metadata": {},
     "output_type": "execute_result"
    }
   ],
   "source": [
    "base_url"
   ]
  },
  {
   "cell_type": "markdown",
   "metadata": {},
   "source": [
    "# creating simple currency converter"
   ]
  },
  {
   "cell_type": "code",
   "execution_count": 115,
   "metadata": {},
   "outputs": [
    {
     "name": "stdout",
     "output_type": "stream",
     "text": [
      "Enter the date (yyyy-mm-dd): 2010-01-12\n",
      "Enter the base value: EUR\n",
      "convert to (currency): HUF\n",
      "how much EUR do u wanna convert: 1\n"
     ]
    }
   ],
   "source": [
    "    import requests\n",
    "\n",
    "date = input(\"Enter the date (yyyy-mm-dd): \")\n",
    "base = input(\"Enter the base value: \")\n",
    "curr = input(\"convert to (currency): \")\n",
    "quan = float(input(f\"how much {base} do u wanna convert: \"))\n",
    "\n",
    "base_url = \"https://api.ratesapi.io/api\"\n",
    "\n",
    "url = base_url + \"/\" + date + \"?base=\" + base + \"&symbols=\" +curr\n",
    "\n",
    "response = requests.get(url)\n",
    "    "
   ]
  },
  {
   "cell_type": "code",
   "execution_count": 116,
   "metadata": {},
   "outputs": [
    {
     "name": "stdout",
     "output_type": "stream",
     "text": [
      "the converted value of HUF from EUR is 268.18 on 2010-01-12\n"
     ]
    }
   ],
   "source": [
    "if response.ok is False:\n",
    "    print(f\"ERROR_CODE -{response.status_code}\")\n",
    "    print(response.json()['error'])\n",
    "else:\n",
    "    data = response.json()\n",
    "    rate = data['rates'][curr]\n",
    "    result = quan*rate\n",
    "\n",
    "    print(f\"the converted value of {curr} from {base} is {result} on {date}\")"
   ]
  },
  {
   "cell_type": "code",
   "execution_count": null,
   "metadata": {},
   "outputs": [],
   "source": []
  },
  {
   "cell_type": "markdown",
   "metadata": {},
   "source": [
    "\n",
    "# ITunesAPI"
   ]
  },
  {
   "cell_type": "code",
   "execution_count": 117,
   "metadata": {},
   "outputs": [],
   "source": [
    "base_url = \"https://itunes.apple.com/search\""
   ]
  },
  {
   "cell_type": "code",
   "execution_count": 118,
   "metadata": {},
   "outputs": [
    {
     "data": {
      "text/plain": [
       "{'resultCount': 0, 'results': []}"
      ]
     },
     "execution_count": 118,
     "metadata": {},
     "output_type": "execute_result"
    }
   ],
   "source": [
    "response = requests.get(base_url)\n",
    "response.json()"
   ]
  },
  {
   "cell_type": "code",
   "execution_count": 119,
   "metadata": {},
   "outputs": [
    {
     "name": "stdout",
     "output_type": "stream",
     "text": [
      "{'resultCount': 0, 'results': []}\n"
     ]
    }
   ],
   "source": [
    "print(response.json())"
   ]
  },
  {
   "cell_type": "code",
   "execution_count": null,
   "metadata": {},
   "outputs": [],
   "source": []
  }
 ],
 "metadata": {
  "kernelspec": {
   "display_name": "Python 3",
   "language": "python",
   "name": "python3"
  },
  "language_info": {
   "codemirror_mode": {
    "name": "ipython",
    "version": 3
   },
   "file_extension": ".py",
   "mimetype": "text/x-python",
   "name": "python",
   "nbconvert_exporter": "python",
   "pygments_lexer": "ipython3",
   "version": "3.8.5"
  }
 },
 "nbformat": 4,
 "nbformat_minor": 4
}
